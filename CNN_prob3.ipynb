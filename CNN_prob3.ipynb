{
  "nbformat": 4,
  "nbformat_minor": 0,
  "metadata": {
    "colab": {
      "provenance": [],
      "authorship_tag": "ABX9TyPUC8JfVWY08bOxkZBeN5AT",
      "include_colab_link": true
    },
    "kernelspec": {
      "name": "python3",
      "display_name": "Python 3"
    },
    "language_info": {
      "name": "python"
    }
  },
  "cells": [
    {
      "cell_type": "markdown",
      "metadata": {
        "id": "view-in-github",
        "colab_type": "text"
      },
      "source": [
        "<a href=\"https://colab.research.google.com/github/samiur06/Machine-Learning-Fall-2022/blob/main/CNN_prob3.ipynb\" target=\"_parent\"><img src=\"https://colab.research.google.com/assets/colab-badge.svg\" alt=\"Open In Colab\"/></a>"
      ]
    },
    {
      "cell_type": "markdown",
      "source": [
        "Compute the following: \n",
        "1. What are the dimensions of the input and the kernel (or filter)? How many parameters \n",
        "are there in the kernel f? [2 points] \n",
        "2. What is the output activation map when you apply the convolutional operation using the \n",
        "filter f on the input X without padding? [4 points] \n",
        "3. What is the output when you apply a max-pooling operation on the output from the \n",
        "previous question? [4 points] "
      ],
      "metadata": {
        "id": "tr-ak1gtMRr6"
      }
    },
    {
      "cell_type": "code",
      "execution_count": null,
      "metadata": {
        "id": "WVGvczpIwnJs"
      },
      "outputs": [],
      "source": [
        "import numpy as np\n",
        "\n",
        "X = np.array([\n",
        "    [7,5,0,0,3,2],\n",
        "    [6,4,5,1,4,8],\n",
        "    [9,0,2,2,5,4],\n",
        "    [6,3,4,7,9,8],\n",
        "    [5,7,5,6,9,0],\n",
        "    [7,9,0,8,2,3]\n",
        "    ])\n",
        "\n",
        "y= np.array([\n",
        "    [1,0,-1],\n",
        "    [2,0,-2],\n",
        "    [1,0,-1],    \n",
        "    ])"
      ]
    },
    {
      "cell_type": "markdown",
      "source": [
        "### 3.1 answer:\n",
        "\n",
        "The dimensions of the input and the kernel are 6x6 and 3x3. There are 3x3 = 9 parameters in the kernel. (The bias term has to be added seperately, it is not in the kernel)"
      ],
      "metadata": {
        "id": "OABceZSn3cai"
      }
    },
    {
      "cell_type": "code",
      "source": [
        "op1 = np.zeros(16).reshape(4,4)\n",
        "for i in range(4):\n",
        "    for j in range(4):\n",
        "        k = i+3\n",
        "        l = j+3\n",
        "        op1[i,j] = (np.sum(X[i:k,j:l] * y))\n",
        "\n",
        "print(op1)"
      ],
      "metadata": {
        "colab": {
          "base_uri": "https://localhost:8080/"
        },
        "id": "EpnEltYk3dUs",
        "outputId": "3d12cd46-1de6-4408-c6f4-825986ad1746"
      },
      "execution_count": null,
      "outputs": [
        {
          "output_type": "stream",
          "name": "stdout",
          "text": [
            "[[ 16.   9.  -4. -18.]\n",
            " [ 17.  -5. -10. -12.]\n",
            " [ 11.  -9. -17.   2.]\n",
            " [  9.  -1. -15.  16.]]\n"
          ]
        }
      ]
    },
    {
      "cell_type": "markdown",
      "source": [
        "### 3.2 answer:\n",
        "\n",
        "This is the output activation map without padding. "
      ],
      "metadata": {
        "id": "PD1oZ24D745D"
      }
    },
    {
      "cell_type": "code",
      "source": [
        "import skimage.measure\n",
        "\n",
        "op2 = skimage.measure.block_reduce(op1, (2,2), np.max)\n",
        "print(op2)"
      ],
      "metadata": {
        "colab": {
          "base_uri": "https://localhost:8080/"
        },
        "id": "bcSOF_Aw5IFf",
        "outputId": "7969bc20-c7f9-412a-af85-3824df10f90d"
      },
      "execution_count": null,
      "outputs": [
        {
          "output_type": "stream",
          "name": "stdout",
          "text": [
            "[[17. -4.]\n",
            " [11. 16.]]\n"
          ]
        }
      ]
    },
    {
      "cell_type": "markdown",
      "source": [
        "### 3.3 answer:\n",
        "\n",
        "This is the output when we apply max-pooling operation on the previous output."
      ],
      "metadata": {
        "id": "UfnrzpWK8fTE"
      }
    }
  ]
}