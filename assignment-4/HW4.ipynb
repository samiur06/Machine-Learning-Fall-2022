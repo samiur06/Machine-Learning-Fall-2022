{
 "cells": [
  {
   "cell_type": "code",
   "execution_count": 4,
   "id": "0302b863",
   "metadata": {},
   "outputs": [],
   "source": [
    "# %reset"
   ]
  },
  {
   "cell_type": "markdown",
   "id": "01330995",
   "metadata": {},
   "source": [
    "1. Using the same housing data (Asssignment4_Data.xlsx), construct a decision tree classifier. You can use the implementation available on Sci-Kit Learn. Perform the following experiments and briefly (2-4 sentences) answer the questions. "
   ]
  },
  {
   "cell_type": "code",
   "execution_count": 467,
   "id": "1d7ac28f",
   "metadata": {},
   "outputs": [],
   "source": [
    "import numpy as np\n",
    "import matplotlib.pyplot as plt\n",
    "import pandas as pd\n",
    "from sklearn import tree\n",
    "from collections import Counter"
   ]
  },
  {
   "cell_type": "code",
   "execution_count": 18,
   "id": "7e0549d9",
   "metadata": {},
   "outputs": [
    {
     "data": {
      "text/html": [
       "<div>\n",
       "<style scoped>\n",
       "    .dataframe tbody tr th:only-of-type {\n",
       "        vertical-align: middle;\n",
       "    }\n",
       "\n",
       "    .dataframe tbody tr th {\n",
       "        vertical-align: top;\n",
       "    }\n",
       "\n",
       "    .dataframe thead th {\n",
       "        text-align: right;\n",
       "    }\n",
       "</style>\n",
       "<table border=\"1\" class=\"dataframe\">\n",
       "  <thead>\n",
       "    <tr style=\"text-align: right;\">\n",
       "      <th></th>\n",
       "      <th>House ID</th>\n",
       "      <th>Local Price</th>\n",
       "      <th>Bathrooms</th>\n",
       "      <th>Land Area</th>\n",
       "      <th>Living area</th>\n",
       "      <th># Garages</th>\n",
       "      <th># Rooms</th>\n",
       "      <th># Bedrooms</th>\n",
       "      <th>Age of home</th>\n",
       "      <th>Construction type</th>\n",
       "    </tr>\n",
       "  </thead>\n",
       "  <tbody>\n",
       "    <tr>\n",
       "      <th>0</th>\n",
       "      <td>24</td>\n",
       "      <td>6.0931</td>\n",
       "      <td>1.5</td>\n",
       "      <td>6.7265</td>\n",
       "      <td>1.652</td>\n",
       "      <td>1.0</td>\n",
       "      <td>6</td>\n",
       "      <td>3</td>\n",
       "      <td>44</td>\n",
       "      <td>Apartment</td>\n",
       "    </tr>\n",
       "    <tr>\n",
       "      <th>1</th>\n",
       "      <td>25</td>\n",
       "      <td>8.3607</td>\n",
       "      <td>1.5</td>\n",
       "      <td>9.1500</td>\n",
       "      <td>1.777</td>\n",
       "      <td>2.0</td>\n",
       "      <td>8</td>\n",
       "      <td>4</td>\n",
       "      <td>48</td>\n",
       "      <td>House</td>\n",
       "    </tr>\n",
       "    <tr>\n",
       "      <th>2</th>\n",
       "      <td>26</td>\n",
       "      <td>8.1400</td>\n",
       "      <td>1.0</td>\n",
       "      <td>8.0000</td>\n",
       "      <td>1.504</td>\n",
       "      <td>2.0</td>\n",
       "      <td>7</td>\n",
       "      <td>3</td>\n",
       "      <td>3</td>\n",
       "      <td>House</td>\n",
       "    </tr>\n",
       "    <tr>\n",
       "      <th>3</th>\n",
       "      <td>27</td>\n",
       "      <td>9.1416</td>\n",
       "      <td>1.5</td>\n",
       "      <td>7.3262</td>\n",
       "      <td>1.831</td>\n",
       "      <td>1.5</td>\n",
       "      <td>8</td>\n",
       "      <td>4</td>\n",
       "      <td>31</td>\n",
       "      <td>Apartment</td>\n",
       "    </tr>\n",
       "    <tr>\n",
       "      <th>4</th>\n",
       "      <td>28</td>\n",
       "      <td>12.0000</td>\n",
       "      <td>1.5</td>\n",
       "      <td>5.0000</td>\n",
       "      <td>1.200</td>\n",
       "      <td>2.0</td>\n",
       "      <td>6</td>\n",
       "      <td>3</td>\n",
       "      <td>30</td>\n",
       "      <td>Apartment</td>\n",
       "    </tr>\n",
       "  </tbody>\n",
       "</table>\n",
       "</div>"
      ],
      "text/plain": [
       "   House ID  Local Price  Bathrooms  Land Area  Living area  # Garages  \\\n",
       "0        24       6.0931        1.5     6.7265        1.652        1.0   \n",
       "1        25       8.3607        1.5     9.1500        1.777        2.0   \n",
       "2        26       8.1400        1.0     8.0000        1.504        2.0   \n",
       "3        27       9.1416        1.5     7.3262        1.831        1.5   \n",
       "4        28      12.0000        1.5     5.0000        1.200        2.0   \n",
       "\n",
       "   # Rooms  # Bedrooms  Age of home Construction type  \n",
       "0        6           3           44         Apartment  \n",
       "1        8           4           48             House  \n",
       "2        7           3            3             House  \n",
       "3        8           4           31         Apartment  \n",
       "4        6           3           30         Apartment  "
      ]
     },
     "execution_count": 18,
     "metadata": {},
     "output_type": "execute_result"
    }
   ],
   "source": [
    "xls = pd.ExcelFile('/content/drive/MyDrive/Asssignment4_Data.xlsx')\n",
    "df_train = pd.read_excel(xls, sheet_name='Train')\n",
    "df_test = pd.read_excel(xls, 'Test')\n",
    "df_test"
   ]
  },
  {
   "cell_type": "code",
   "execution_count": 449,
   "id": "7e05e301",
   "metadata": {},
   "outputs": [],
   "source": [
    "# df_train.describe().head(3)"
   ]
  },
  {
   "cell_type": "code",
   "execution_count": 448,
   "id": "abdc560d",
   "metadata": {},
   "outputs": [],
   "source": [
    "X_train = df_train.to_numpy()[:,1:9]\n",
    "Y_train = df_train.to_numpy()[:,9]\n",
    "\n",
    "X_test = df_test.to_numpy()[:,1:9]\n",
    "Y_test = df_test.to_numpy()[:,9]"
   ]
  },
  {
   "cell_type": "markdown",
   "id": "196cb067",
   "metadata": {},
   "source": [
    "## problem 1"
   ]
  },
  {
   "cell_type": "code",
   "execution_count": 307,
   "id": "f9932404",
   "metadata": {},
   "outputs": [],
   "source": [
    "# probability for continuous variables\n",
    "def prob_conts_feature(feature, x):\n",
    "#     df_col = np.array(df_train.columns)\n",
    "#     i = np.where(df_col==feature)\n",
    "    mu = df_train.describe()[feature][1]\n",
    "    sigma = df_train.describe()[feature][2]\n",
    "    func = 1/(sigma*np.sqrt(2*np.pi)) * np.exp(-0.5 * ((x-mu)/sigma)**2 )\n",
    "    return func "
   ]
  },
  {
   "cell_type": "code",
   "execution_count": 446,
   "id": "dc00494a",
   "metadata": {},
   "outputs": [],
   "source": [
    "d = {df_col[0]: np.arange(1,21,1), \n",
    "     df_col[1]: prob_conts_feature(df_col[1], df_train[df_col[1]]),\n",
    "     df_col[3]: prob_conts_feature(df_col[3], df_train[df_col[3]]),\n",
    "     df_col[4]: prob_conts_feature(df_col[4], df_train[df_col[4]]),\n",
    "     df_col[8]: prob_conts_feature(df_col[8], df_train[df_col[8]]),\n",
    "     }\n",
    "prob_cont = pd.DataFrame(d)\n",
    "# prob_cont "
   ]
  },
  {
   "cell_type": "code",
   "execution_count": 377,
   "id": "cdc21aed",
   "metadata": {},
   "outputs": [],
   "source": [
    "# probabilities for other discrete features\n",
    "bath = pd.DataFrame({'values':[1,1.5,2.5],\n",
    "                     'A':[5/7,1/7,1/7], \n",
    "                     'H':[6/7,1/7,0], \n",
    "                     'C':[4/6,1/6,1/6]\n",
    "                    }\n",
    "                   )\n",
    "\n",
    "gar = pd.DataFrame({'values': [0,1,1.5,2],\n",
    "                    'A':[1/7,3/7,1/7,2/7],\n",
    "                    'H':[2/7,2/7,1/7,2/7],\n",
    "                    'C':[0/6,4/6,0/6,2/6],\n",
    "                   }\n",
    "                  )\n",
    "\n",
    "room = pd.DataFrame({'values': [5,6,7,8,9,10],\n",
    "                    'A':[1/7,2/7,2/7,1/7,1/7,0/7],\n",
    "                    'H':[1/7,4/7,2/7,0,0,0],\n",
    "                    'C':[0,4/6,1/6,0,0,1/6],\n",
    "                   }\n",
    "                  )\n",
    "\n",
    "bed = pd.DataFrame({'values': [2,3,4,5],\n",
    "                    'A':[1/7,3/7,2/7,1/7],\n",
    "                    'H':[1/7,5/7,1/7,0],\n",
    "                    'C':[0,5/6,0,1/6],\n",
    "                   }\n",
    "                  )"
   ]
  },
  {
   "cell_type": "code",
   "execution_count": 386,
   "id": "c6dcba10",
   "metadata": {},
   "outputs": [],
   "source": [
    "def prob_bath(letter, val):\n",
    "    return bath[letter][bath.loc[bath['values'] == val].index[0]]\n",
    "\n",
    "def prob_gar(letter, val):\n",
    "    return gar[letter][gar.loc[gar['values'] == val].index[0]]\n",
    "\n",
    "def prob_room(letter, val):\n",
    "    return room[letter][room.loc[room['values'] == val].index[0]]\n",
    "\n",
    "def prob_bed(letter, val):\n",
    "    return bed[letter][bed.loc[bed['values'] == val].index[0]]"
   ]
  },
  {
   "cell_type": "code",
   "execution_count": 401,
   "id": "106f0a7f",
   "metadata": {},
   "outputs": [],
   "source": [
    "def prob_target(target,letter):\n",
    "    return prob_bath(letter,target[1]) * prob_gar(letter, target[4]) * prob_room(letter, target[5]\n",
    "    ) * prob_bed(letter, target[6]) * prob_conts_feature(df_col[1], target[0]\n",
    "    ) * prob_conts_feature(df_col[3],target[2]) * prob_conts_feature(df_col[4],target[3]\n",
    "    ) * prob_conts_feature(df_col[8],target[7])"
   ]
  },
  {
   "cell_type": "code",
   "execution_count": 445,
   "id": "0081ae56",
   "metadata": {},
   "outputs": [
    {
     "name": "stdout",
     "output_type": "stream",
     "text": [
      "prediction: ['Condo' 'Apartment' 'House' 'Apartment' 'Condo']\n",
      "true values: ['Apartment' 'House' 'House' 'Apartment' 'Apartment']\n"
     ]
    }
   ],
   "source": [
    "def prediction(X_test):\n",
    "    output = []\n",
    "    for i in range(len(X_test)):\n",
    "        mydict = {'Apartment':prob_target(X_test[i], \"A\"), \"House\": prob_target(X_test[i], \"H\"), \"Condo\": prob_target(X_test[i], \"C\")}\n",
    "        keys = [k for k, v in mydict.items() if v == max(mydict.values())]\n",
    "        output.append(keys) \n",
    "    output = (np.array(output)).flatten()\n",
    "    return output\n",
    "print(f'prediction:',prediction(X_test))\n",
    "print(f'true values:',Y_test)"
   ]
  },
  {
   "cell_type": "markdown",
   "id": "b54ce766",
   "metadata": {
    "heading_collapsed": true
   },
   "source": [
    "## problem 2"
   ]
  },
  {
   "cell_type": "markdown",
   "id": "d109ff44",
   "metadata": {
    "hidden": true
   },
   "source": [
    "### 2.1"
   ]
  },
  {
   "cell_type": "code",
   "execution_count": 451,
   "id": "f4e98ec5",
   "metadata": {
    "hidden": true
   },
   "outputs": [],
   "source": [
    "model = tree.DecisionTreeClassifier()\n",
    "model = model.fit(X_train, Y_train)"
   ]
  },
  {
   "cell_type": "code",
   "execution_count": 86,
   "id": "f6eaf802",
   "metadata": {
    "hidden": true
   },
   "outputs": [
    {
     "data": {
      "text/plain": [
       "1.0"
      ]
     },
     "execution_count": 86,
     "metadata": {},
     "output_type": "execute_result"
    }
   ],
   "source": [
    "model.score(X_train, Y_train)"
   ]
  },
  {
   "cell_type": "code",
   "execution_count": 222,
   "id": "6a6b9f05",
   "metadata": {
    "hidden": true
   },
   "outputs": [
    {
     "name": "stdout",
     "output_type": "stream",
     "text": [
      "['Condo' 'Condo' 'Condo' 'Apartment' 'Apartment'] \n",
      " ['Apartment' 'House' 'House' 'Apartment' 'Apartment']\n"
     ]
    }
   ],
   "source": [
    "print(model.predict(X_test),\"\\n\", Y_test)"
   ]
  },
  {
   "cell_type": "code",
   "execution_count": 225,
   "id": "75c26267",
   "metadata": {
    "hidden": true
   },
   "outputs": [
    {
     "data": {
      "text/plain": [
       "0.4"
      ]
     },
     "execution_count": 225,
     "metadata": {},
     "output_type": "execute_result"
    }
   ],
   "source": [
    "model.score(X_test, Y_test)"
   ]
  },
  {
   "cell_type": "markdown",
   "id": "586d798b",
   "metadata": {
    "hidden": true
   },
   "source": [
    "1. Use the default parameters.  \n",
    "    1. What is the accuracy on the training set?  \n",
    "    > 100%\n",
    "    1. What is the accuracy on the test set? \n",
    "    > 40%"
   ]
  },
  {
   "cell_type": "markdown",
   "id": "10110d0c",
   "metadata": {
    "hidden": true
   },
   "source": [
    "### 2.2"
   ]
  },
  {
   "cell_type": "code",
   "execution_count": 230,
   "id": "8e7ad182",
   "metadata": {
    "hidden": true
   },
   "outputs": [
    {
     "name": "stdout",
     "output_type": "stream",
     "text": [
      "the best value occurs for the maximum depth = 2\n",
      "test_score= [0.4, 0.8, 0.4, 0.4, 0.4] ...\n"
     ]
    },
    {
     "data": {
      "image/png": "[encoded data removed]",
      "text/plain": [
       "<Figure size 640x480 with 1 Axes>"
      ]
     },
     "metadata": {},
     "output_type": "display_data"
    }
   ],
   "source": [
    "tr_score = []\n",
    "test_score = []\n",
    "x = np.arange(1,20)\n",
    "for i in x:\n",
    "    model = tree.DecisionTreeClassifier(max_depth=i)\n",
    "    model.fit(X_train,Y_train)\n",
    "    tr_score.append(round(model.score(X_train,Y_train),4))\n",
    "    test_score.append(round(model.score(X_test, Y_test),4))    \n",
    "print(\"the best value occurs for the maximum depth =\",test_score.index(max(test_score))+1)\n",
    "print(\"test_score=\",test_score[:5],\"...\")\n",
    "\n",
    "plt.plot(x,tr_score, label='training score')\n",
    "plt.plot(x,test_score, label='test score')\n",
    "plt.legend()\n",
    "# print(tr_score)\n",
    "# print(max(tr_score))\n",
    "plt.show()"
   ]
  },
  {
   "cell_type": "markdown",
   "id": "10a38aa9",
   "metadata": {
    "hidden": true
   },
   "source": [
    "2. What is the effect of restricting the maximum depth of the tree? Try different depths and find the best value.\n",
    "> We tried different depths and found that the optimization improves and fall for larger values of the depth. The best value occurs for the maximum depth = 2. That's the point where underfitting and overfitting are balanced."
   ]
  },
  {
   "cell_type": "markdown",
   "id": "6d6ec35c",
   "metadata": {
    "hidden": true
   },
   "source": [
    "### 2.3"
   ]
  },
  {
   "cell_type": "markdown",
   "id": "faf739c0",
   "metadata": {
    "hidden": true
   },
   "source": [
    "3. Why does restricting the depth have such a strong effect on the classifier performance?  \n",
    "> Decision tree classifiers always overfit; because they just memorize the training data and fits perfectly quickly as we saw in the plots. But the test data accuracy reaches maximum only for a depth of 2. That's why restricting the depth manually helps the model to remain on a point where it neither underfits nor overfits extremely."
   ]
  },
  {
   "cell_type": "markdown",
   "id": "99f52159",
   "metadata": {
    "hidden": true
   },
   "source": [
    "### 2.4"
   ]
  },
  {
   "cell_type": "markdown",
   "id": "ec7bf1f8",
   "metadata": {
    "hidden": true
   },
   "source": [
    "4. Visualize the resulting tree. Perform the inference on this tree manually (i.e. show/trace the path taken towards classification) and provide a classification for the following  example:"
   ]
  },
  {
   "cell_type": "code",
   "execution_count": 454,
   "id": "5feabd7f",
   "metadata": {
    "hidden": true
   },
   "outputs": [],
   "source": [
    "# df_test"
   ]
  },
  {
   "cell_type": "code",
   "execution_count": 457,
   "id": "f238590f",
   "metadata": {
    "hidden": true
   },
   "outputs": [
    {
     "data": {
      "image/png": "[encoded data removed]",
      "text/plain": [
       "<Figure size 640x480 with 1 Axes>"
      ]
     },
     "metadata": {},
     "output_type": "display_data"
    }
   ],
   "source": [
    "model = tree.DecisionTreeClassifier(criterion='entropy', max_depth=2)\n",
    "model = model.fit(X_train, Y_train)\n",
    "tree.plot_tree(model)\n",
    "plt.show()"
   ]
  },
  {
   "cell_type": "markdown",
   "id": "4bc53ab1",
   "metadata": {
    "hidden": true
   },
   "source": [
    ">We changed the criterion to entropy and set max depth to 2. In the given example, age of home, X[7]=23 < 59. So we follow the branch on the right side. It is divided into two leaves, with 5 apartments, 4 condos and and 1 house examples. So there is 50%, 40%, and 10% probability of the example representing an apartment, condo, or house, respectively."
   ]
  },
  {
   "cell_type": "markdown",
   "id": "3f4b46e1",
   "metadata": {
    "heading_collapsed": true
   },
   "source": [
    "## problem 3"
   ]
  },
  {
   "cell_type": "code",
   "execution_count": 462,
   "id": "83c393bf",
   "metadata": {
    "hidden": true
   },
   "outputs": [],
   "source": [
    "def find_majority(votes):\n",
    "    vote_count = Counter(votes)\n",
    "    top_two = vote_count.most_common(2)\n",
    "    if len(top_two)>1 and top_two[0][1] == top_two[1][1]:\n",
    "        # It is a tie\n",
    "        # choosing an index randomly\n",
    "        x = np.random.randint(0,2)\n",
    "        return top_two[x][0]\n",
    "    else:\n",
    "        # no tie, choosing the max\n",
    "        return top_two[0][0]"
   ]
  },
  {
   "cell_type": "code",
   "execution_count": 463,
   "id": "08ef66a2",
   "metadata": {
    "hidden": true
   },
   "outputs": [],
   "source": [
    "#Euclidean Distance\n",
    "def eucledian(p1,p2):\n",
    "    dist = np.sqrt(np.sum((p1-p2)**2))\n",
    "    return dist\n",
    "\n",
    "# def majority(l):\n",
    "#     try:\n",
    "#         return mode(l)\n",
    "#     except StatisticsError:\n",
    "#         return 0\n",
    "\n",
    "#Function to calculate KNN\n",
    "def predict(x_train, y , x_input, k):\n",
    "    op_labels = []\n",
    "     \n",
    "    #Loop through the Datapoints to be classified\n",
    "    for item in x_input: \n",
    "         \n",
    "        #Array to store distances\n",
    "        point_dist = np.array([])\n",
    "         \n",
    "        #Loop through each training Data\n",
    "        for i in range(len(x_train)):\n",
    "            distances = eucledian(x_train[i], item) \n",
    "                #Calculating the distance\n",
    "            point_dist = np.append(point_dist, distances) \n",
    "         \n",
    "        #Sorting the array while preserving the index\n",
    "        #Keeping the first K datapoints\n",
    "        dist = np.argsort(point_dist)[:k] \n",
    "         \n",
    "        #Labels of the K datapoints from above\n",
    "        labels = y[dist]\n",
    "         \n",
    "        #Majority voting \n",
    "        op_labels.append(find_majority(labels))\n",
    " \n",
    "    return op_labels"
   ]
  },
  {
   "cell_type": "code",
   "execution_count": 464,
   "id": "63522a70",
   "metadata": {
    "hidden": true
   },
   "outputs": [],
   "source": [
    "#Loading the Data\n",
    "xls = pd.ExcelFile('/content/drive/MyDrive/Asssignment4_Data.xlsx')\n",
    "df_train = pd.read_excel(xls, sheet_name='Train')\n",
    "df_test = pd.read_excel(xls, 'Test')\n",
    "\n",
    "#normalizing data\n",
    "X_train = df_train.to_numpy()[:,1:9]\n",
    "Y_train = df_train.to_numpy()[:,9]\n",
    "\n",
    "X_test = df_test.to_numpy()[:,1:9]\n",
    "Y_test = df_test.to_numpy()[:,9]\n",
    "\n",
    "for data in (X_train, X_test):\n",
    "    for i in range(8):\n",
    "        data[:,i]/=max(data[:,i])"
   ]
  },
  {
   "cell_type": "code",
   "execution_count": 468,
   "id": "ec8bc4d2",
   "metadata": {
    "hidden": true
   },
   "outputs": [
    {
     "name": "stdout",
     "output_type": "stream",
     "text": [
      "The true values:\n",
      "  > ['Apartment' 'House' 'House' 'Apartment' 'Apartment']\n",
      "1 > ['Condo', 'Condo', 'Apartment', 'Condo', 'Condo']\n",
      "2 > ['Apartment', 'Condo', 'Apartment', 'Apartment', 'Condo']\n",
      "3 > ['Condo', 'Apartment', 'Apartment', 'Apartment', 'Apartment']\n",
      "4 > ['Condo', 'Apartment', 'Apartment', 'Apartment', 'Apartment']\n",
      "5 > ['Condo', 'Apartment', 'Condo', 'Apartment', 'Apartment']\n"
     ]
    }
   ],
   "source": [
    "# Applying the function \n",
    "print(\"The true values:\\n  >\",Y_test)\n",
    "\n",
    "for k in range(1,6):\n",
    "    Y_pred = predict(X_train, Y_train, X_test, k)\n",
    "    print(k,\">\",Y_pred)"
   ]
  },
  {
   "cell_type": "code",
   "execution_count": 470,
   "id": "b4d9bc0a",
   "metadata": {
    "hidden": true
   },
   "outputs": [],
   "source": [
    "def accuracy(true,pred):\n",
    "    n = 0\n",
    "    if len(true)==len(pred):\n",
    "        n = len(true)\n",
    "    s=0\n",
    "    for i in range(n):\n",
    "        if true[i]==pred[i]:\n",
    "            s+=1\n",
    "    return s/n"
   ]
  },
  {
   "cell_type": "code",
   "execution_count": 478,
   "id": "29916f26",
   "metadata": {
    "hidden": true
   },
   "outputs": [
    {
     "name": "stdout",
     "output_type": "stream",
     "text": [
      "[0.  0.4 0.4 0.4 0.6 0.4 0.6 0.6 0.6]\n"
     ]
    },
    {
     "data": {
      "image/png": "[encoded data removed]",
      "text/plain": [
       "<Figure size 640x480 with 1 Axes>"
      ]
     },
     "metadata": {},
     "output_type": "display_data"
    }
   ],
   "source": [
    "score = np.array([])\n",
    "for k in range(1,10):\n",
    "    Y_pred = predict(X_train, Y_train, X_test, k)\n",
    "    score = np.append(score,accuracy(Y_test,Y_pred))\n",
    "    \n",
    "print(score)\n",
    "# plt.plot([1,2,3,4,5], score)\n",
    "plt.plot(np.arange(1,10,1), score)\n",
    "plt.xlabel('k')\n",
    "plt.ylabel('score')\n",
    "plt.show()"
   ]
  },
  {
   "cell_type": "markdown",
   "id": "949fb096",
   "metadata": {
    "hidden": true
   },
   "source": [
    "> Comments: euclidian distance was chosen after normalizing the data. We can see that accuracy fluctuates as we change k from 1 to 10 (I took more than 5, as it shows us better picture). "
   ]
  }
 ],
 "metadata": {
  "kernelspec": {
   "display_name": "Python 3 (ipykernel)",
   "language": "python",
   "name": "python3"
  },
  "language_info": {
   "codemirror_mode": {
    "name": "ipython",
    "version": 3
   },
   "file_extension": ".py",
   "mimetype": "text/x-python",
   "name": "python",
   "nbconvert_exporter": "python",
   "pygments_lexer": "ipython3",
   "version": "3.9.12"
  }
 },
 "nbformat": 4,
 "nbformat_minor": 5
}
